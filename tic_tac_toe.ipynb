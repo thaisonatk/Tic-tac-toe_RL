{
 "cells": [
  {
   "cell_type": "code",
   "execution_count": 28,
   "metadata": {},
   "outputs": [],
   "source": [
    "import numpy as np\n",
    "from collections import defaultdict\n",
    "import matplotlib.pyplot as plt\n",
    "import random\n",
    "import itertools"
   ]
  },
  {
   "cell_type": "code",
   "execution_count": 29,
   "metadata": {},
   "outputs": [],
   "source": [
    "class TicTacToe:\n",
    "    def __init__(self,size) :\n",
    "        self.size = size\n",
    "        self.board = np.zeros((size,size),dtype=int)\n",
    "        self.current_player = 1\n",
    "    \n",
    "    def available_actions(self):\n",
    "        return [(i,j) for i in range(self.size) for j in range(self.size) if self.board[i][j] == 0]\n",
    "    \n",
    "    def make_move(self,action):\n",
    "        i,j = action\n",
    "        if self.board[i,j] == 0:\n",
    "            self.board[i,j] = self.current_player\n",
    "            self.current_player = 3 - self.current_player\n",
    "            return True\n",
    "        return False\n",
    "    \n",
    "    def check_winner(self):\n",
    "        for player in [1, 2]:\n",
    "            player_win = player * np.ones(self.size)\n",
    "            if any(np.all(self.board == player_win, axis=1)) or \\\n",
    "               any(np.all(self.board == player_win, axis=0)) or \\\n",
    "               np.all(np.diag(self.board) == player_win) or \\\n",
    "               np.all(np.diag(np.fliplr(self.board)) == player_win):\n",
    "                return player\n",
    "        return None if len(self.available_actions()) > 0 else 0\n",
    "\n",
    "    \n",
    "    def is_terminal(self):\n",
    "        return self.check_winner() is not None\n",
    "    \n",
    "    def get_state(self):\n",
    "        return tuple(self.board.flatten())\n"
   ]
  },
  {
   "cell_type": "code",
   "execution_count": 30,
   "metadata": {},
   "outputs": [],
   "source": [
    "def is_valid_state(state):\n",
    "    return abs(state.count(1) - state.count(2)) <= 1\n",
    "\n",
    "def all_valid_states(size):\n",
    "    return (state for state in itertools.product([0, 1, 2], repeat=size*size) if is_valid_state(state))\n"
   ]
  },
  {
   "cell_type": "code",
   "execution_count": 31,
   "metadata": {},
   "outputs": [],
   "source": [
    "def is_terminal_state(state):\n",
    "    # Check if terminal\n",
    "    board = np.array(state).reshape((int(len(state)**0.5), int(len(state)**0.5)))\n",
    "    game = TicTacToe(int(len(state)**0.5))\n",
    "    game.board = board\n",
    "    return game.is_terminal()"
   ]
  },
  {
   "cell_type": "code",
   "execution_count": 32,
   "metadata": {},
   "outputs": [],
   "source": [
    "def get_reward(state):\n",
    "    # Define reward\n",
    "    board = np.array(state).reshape((int(len(state)**0.5), int(len(state)**0.5)))\n",
    "    game = TicTacToe(int(len(state)**0.5))\n",
    "    game.board = board\n",
    "    winner = game.check_winner()\n",
    "    if winner == 1:\n",
    "        return 1\n",
    "    elif winner == 2:\n",
    "        return -1\n",
    "    else:\n",
    "        return 0"
   ]
  },
  {
   "cell_type": "code",
   "execution_count": 33,
   "metadata": {},
   "outputs": [],
   "source": [
    "def available_actions(state):\n",
    "    return list(zip(*np.where(np.array(state).reshape((int(len(state)**0.5), -1)) == 0)))"
   ]
  },
  {
   "cell_type": "code",
   "execution_count": 34,
   "metadata": {},
   "outputs": [],
   "source": [
    "def q_value(state,action,V, discount_factor):\n",
    "    # Compute Q_value q(s,a)\n",
    "    next_state = list(state)\n",
    "    current_player = 1 if state.count(1) <= state.count(2) else 2\n",
    "    next_state[action[0] * int(len(state)**0.5) + action[1]] = current_player\n",
    "    next_state = tuple(next_state)\n",
    "    return get_reward(next_state) + discount_factor*V[next_state]"
   ]
  },
  {
   "cell_type": "code",
   "execution_count": 35,
   "metadata": {},
   "outputs": [],
   "source": [
    "def generate_episode(size):\n",
    "    game = TicTacToe(size)\n",
    "    episode = []\n",
    "    while not game.is_terminal():\n",
    "        state = game.get_state()\n",
    "        action = random.choice(game.available_actions())\n",
    "        game.make_move(action)\n",
    "        reward = get_reward(game.get_state())  # Tính reward sau khi di chuyển\n",
    "        episode.append((action, state, reward))\n",
    "    return episode"
   ]
  },
  {
   "cell_type": "code",
   "execution_count": 36,
   "metadata": {},
   "outputs": [],
   "source": [
    "def initial_state(size):\n",
    "    # Return first step of game\n",
    "    return tuple(np.zeros(size*size, dtype='int'))"
   ]
  },
  {
   "cell_type": "code",
   "execution_count": 37,
   "metadata": {},
   "outputs": [],
   "source": [
    "def step(state, action):\n",
    "    # Make action and return next state + reward\n",
    "    next_state = list(state)\n",
    "    next_state[action[0] * int(len(state)**0.5) + action[1]] = 1\n",
    "    next_state = tuple(next_state)\n",
    "    return next_state, get_reward(next_state)"
   ]
  },
  {
   "cell_type": "code",
   "execution_count": 38,
   "metadata": {},
   "outputs": [],
   "source": [
    "def epsilon_greedy(state, Q, epsilon=0.1):\n",
    "    # Implement epsilon-greedy\n",
    "    # if number < episilon -> random else max\n",
    "    if random.random() < epsilon:\n",
    "        return random.choice(available_actions(state))\n",
    "    else:\n",
    "        return max(available_actions(state), key=lambda a: Q[state][a])"
   ]
  },
  {
   "cell_type": "code",
   "execution_count": 39,
   "metadata": {},
   "outputs": [],
   "source": [
    "def value_iteration(size, num_iterations=1000, discount_factor=0.7):\n",
    "    V = defaultdict(float)\n",
    "    \n",
    "    for _ in range(num_iterations):\n",
    "        for state in all_valid_states(size):\n",
    "            if is_terminal_state(state):\n",
    "                V[state] = get_reward(state)\n",
    "            else:\n",
    "                V[state] = max(q_value(state, action, V, discount_factor)\n",
    "                               for action in available_actions(state))\n",
    "    return V"
   ]
  },
  {
   "cell_type": "code",
   "execution_count": 40,
   "metadata": {},
   "outputs": [],
   "source": [
    "def monte_carlo(size, num_episodes=10000, discount_factor=1.0):\n",
    "    Q = defaultdict(lambda: defaultdict(float))\n",
    "    returns_sum = defaultdict(lambda: defaultdict(float))\n",
    "    returns_count = defaultdict(lambda: defaultdict(int))\n",
    "    \n",
    "    for _ in range(num_episodes):\n",
    "        episode = generate_episode(size)\n",
    "        G = 0\n",
    "        for t in range(len(episode) - 1, -1, -1):\n",
    "            state, action, reward = episode[t]\n",
    "            G = discount_factor * G + reward\n",
    "            \n",
    "            if (state, action) not in [(x[0], x[1]) for x in episode[:t]]:\n",
    "                returns_sum[state][action] += G\n",
    "                returns_count[state][action] += 1\n",
    "                Q[state][action] = returns_sum[state][action] / returns_count[state][action]\n",
    "    \n",
    "    return Q"
   ]
  },
  {
   "cell_type": "code",
   "execution_count": 41,
   "metadata": {},
   "outputs": [],
   "source": [
    "def td_learning(size, num_episodes=10000, alpha=0.1, discount_factor=1.0):\n",
    "    V = defaultdict(float)\n",
    "    \n",
    "    for _ in range(num_episodes):\n",
    "        state = initial_state(size)\n",
    "        while not is_terminal_state(state):\n",
    "            action = epsilon_greedy(state, {s: {a: V[s] for a in available_actions(s)} for s in all_valid_states(size)})\n",
    "            next_state, reward = step(state, action)\n",
    "            td_target = reward + discount_factor * V[next_state]\n",
    "            td_error = td_target - V[state]\n",
    "            V[state] += alpha * td_error\n",
    "            state = next_state\n",
    "    \n",
    "    return V"
   ]
  },
  {
   "cell_type": "code",
   "execution_count": 42,
   "metadata": {},
   "outputs": [],
   "source": [
    "def sarsa(size, num_episodes=100000, alpha=0.1, discount_factor=0.99, epsilon_start=1.0, epsilon_end=0.01, epsilon_decay=0.9995):\n",
    "    Q = defaultdict(lambda: defaultdict(lambda: 1.0))  # Optimistic initialization\n",
    "    epsilon = epsilon_start\n",
    "\n",
    "    for episode in range(num_episodes):\n",
    "        state = initial_state(size)\n",
    "        action = epsilon_greedy(state, Q, epsilon)\n",
    "        \n",
    "        while not is_terminal_state(state):\n",
    "            next_state, reward = step(state, action)\n",
    "            \n",
    "            if is_terminal_state(next_state):\n",
    "                Q[state][action] += alpha * (reward - Q[state][action])\n",
    "                break\n",
    "            \n",
    "            next_action = epsilon_greedy(next_state, Q, epsilon)\n",
    "            td_target = reward + discount_factor * Q[next_state][next_action]\n",
    "            td_error = td_target - Q[state][action]\n",
    "            Q[state][action] += alpha * td_error\n",
    "            \n",
    "            state, action = next_state, next_action\n",
    "        \n",
    "        # Epsilon decay\n",
    "        epsilon = max(epsilon_end, epsilon * epsilon_decay)\n",
    "    \n",
    "    return Q"
   ]
  },
  {
   "cell_type": "code",
   "execution_count": 43,
   "metadata": {},
   "outputs": [],
   "source": [
    "def q_learning(size, num_episodes=100000, alpha=0.1, discount_factor=0.99, epsilon_start=1.0, epsilon_end=0.01, epsilon_decay=0.9995):\n",
    "    Q = defaultdict(lambda: defaultdict(lambda: 0.0))  # Khởi tạo với giá trị 0\n",
    "    epsilon = epsilon_start\n",
    "    \n",
    "    for episode in range(num_episodes):\n",
    "        state = initial_state(size)\n",
    "        while not is_terminal_state(state):\n",
    "            action = epsilon_greedy(state, Q, epsilon)\n",
    "            next_state, reward = step(state, action)\n",
    "            \n",
    "            max_next_q = max(Q[next_state].values()) if Q[next_state] else 0\n",
    "            \n",
    "            td_target = reward + discount_factor * max_next_q\n",
    "            td_error = td_target - Q[state][action]\n",
    "            Q[state][action] += alpha * td_error\n",
    "            \n",
    "            state = next_state\n",
    "        \n",
    "        epsilon = max(epsilon_end, epsilon * epsilon_decay)\n",
    "    \n",
    "    return Q"
   ]
  },
  {
   "cell_type": "code",
   "execution_count": 44,
   "metadata": {},
   "outputs": [
    {
     "name": "stdout",
     "output_type": "stream",
     "text": [
      "Training for 4x4 board\n",
      "  Training Q-Learning...\n",
      "    Win rate: 0.34\n",
      "  Training SARSA...\n",
      "    Win rate: 0.30\n",
      "Training for 5x5 board\n",
      "  Training Q-Learning...\n",
      "    Win rate: 0.26\n",
      "  Training SARSA...\n",
      "    Win rate: 0.24\n"
     ]
    },
    {
     "data": {
      "image/png": "[encoded data removed]",
      "text/plain": [
       "<Figure size 1000x600 with 1 Axes>"
      ]
     },
     "metadata": {},
     "output_type": "display_data"
    }
   ],
   "source": [
    "def create_agent(Q):\n",
    "    def agent(game):\n",
    "        state = game.get_state()\n",
    "        return max(Q[state], key=Q[state].get) if state in Q else random.choice(game.available_actions())\n",
    "    return agent\n",
    "\n",
    "def evaluate_agent(agent, size, num_games=10000):\n",
    "    wins = 0\n",
    "    for _ in range(num_games):\n",
    "        game = TicTacToe(size)\n",
    "        while not game.is_terminal():\n",
    "            if game.current_player == 1:\n",
    "                action = agent(game)\n",
    "            else:\n",
    "                action = random.choice(game.available_actions())\n",
    "            game.make_move(action)\n",
    "        if game.check_winner() == 1:\n",
    "            wins += 1\n",
    "    return wins / num_games\n",
    "\n",
    "def plot_win_rates(win_rates):\n",
    "    plt.figure(figsize=(10, 6))\n",
    "    for algorithm, rates in win_rates.items():\n",
    "        plt.plot([4, 5], rates, marker='o', label=algorithm)\n",
    "    plt.title('Win Rates of RL Algorithms')\n",
    "    plt.xlabel('Board Size')\n",
    "    plt.ylabel('Win Rate')\n",
    "    plt.ylim(0, 1)\n",
    "    plt.xticks([4, 5])\n",
    "    plt.legend()\n",
    "    plt.grid(True)\n",
    "    plt.show()\n",
    "\n",
    "if __name__ == \"__main__\":\n",
    "    algorithms = {\n",
    "       # \"Value Iteration\": value_iteration,\n",
    "       # \"Monte Carlo\": monte_carlo,\n",
    "       # \"TD Learning\": td_learning,\n",
    "       \"Q-Learning\": q_learning,\n",
    "        \"SARSA\": sarsa\n",
    "    }\n",
    "    \n",
    "    win_rates = {alg: [] for alg in algorithms}\n",
    "    \n",
    "    for size in [4, 5]:\n",
    "        print(f\"Training for {size}x{size} board\")\n",
    "        for alg_name, alg_func in algorithms.items():\n",
    "            print(f\"  Training {alg_name}...\")\n",
    "            Q = alg_func(size)\n",
    "            agent = create_agent(Q)\n",
    "            win_rate = evaluate_agent(agent, size)\n",
    "            win_rates[alg_name].append(win_rate)\n",
    "            print(f\"    Win rate: {win_rate:.2f}\")\n",
    "    \n",
    "    plot_win_rates(win_rates)"
   ]
  },
  {
   "cell_type": "code",
   "execution_count": null,
   "metadata": {},
   "outputs": [],
   "source": []
  }
 ],
 "metadata": {
  "kernelspec": {
   "display_name": "base",
   "language": "python",
   "name": "python3"
  },
  "language_info": {
   "codemirror_mode": {
    "name": "ipython",
    "version": 3
   },
   "file_extension": ".py",
   "mimetype": "text/x-python",
   "name": "python",
   "nbconvert_exporter": "python",
   "pygments_lexer": "ipython3",
   "version": "3.12.3"
  }
 },
 "nbformat": 4,
 "nbformat_minor": 2
}
